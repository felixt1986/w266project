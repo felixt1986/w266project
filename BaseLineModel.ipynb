{
 "cells": [
  {
   "cell_type": "code",
   "execution_count": 1,
   "metadata": {},
   "outputs": [],
   "source": [
    "from nltk.tokenize.treebank import TreebankWordTokenizer\n",
    "tokenizer = TreebankWordTokenizer()\n",
    "from collections import defaultdict\n",
    "from collections import OrderedDict\n",
    "import datetime as DT\n",
    "import ast\n",
    "import numpy as np\n",
    "from string import punctuation\n",
    "import urllib.request, json \n",
    "\n",
    "from afinn import Afinn\n",
    "af = Afinn()"
   ]
  },
  {
   "cell_type": "code",
   "execution_count": 2,
   "metadata": {},
   "outputs": [],
   "source": [
    "def Quarterlookup(date):\n",
    "    if date>=DT.datetime(2018,10,1):\n",
    "        return '18Q4'\n",
    "    elif date>=DT.datetime(2018,7,1):\n",
    "        return '18Q3'\n",
    "    elif date>=DT.datetime(2018,4,1):\n",
    "        return '18Q2'\n",
    "    elif date>=DT.datetime(2018,1,1):\n",
    "        return '18Q1'\n",
    "    elif date>=DT.datetime(2017,10,1):\n",
    "        return '17Q4'\n",
    "    elif date>=DT.datetime(2017,7,1):\n",
    "        return '17Q3'\n",
    "    elif date>=DT.datetime(2017,4,1):\n",
    "        return '17Q2'\n",
    "    elif date>=DT.datetime(2017,1,1):\n",
    "        return '17Q1'\n",
    "    elif date>=DT.datetime(2016,10,1):\n",
    "        return '16Q4'\n",
    "    elif date>=DT.datetime(2016,7,1):\n",
    "        return '16Q3'\n",
    "    elif date>=DT.datetime(2016,4,1):\n",
    "        return '16Q2'\n",
    "    elif date>=DT.datetime(2016,1,1):\n",
    "        return '16Q1'\n",
    "    elif date>=DT.datetime(2015,10,1):\n",
    "        return '15Q4'\n",
    "    elif date>=DT.datetime(2015,7,1):\n",
    "        return '15Q3'\n",
    "    elif date>=DT.datetime(2015,4,1):\n",
    "        return '15Q2'\n",
    "    else:\n",
    "        return '15Q1'"
   ]
  },
  {
   "cell_type": "code",
   "execution_count": 3,
   "metadata": {},
   "outputs": [],
   "source": [
    "d=defaultdict(list)\n",
    "with open('InputX.txt') as f:\n",
    "    for line in f:\n",
    "        count=0\n",
    "        temp =-1\n",
    "        k,v=line.split(':',1)\n",
    "        \n",
    "        while True:\n",
    "       \n",
    "            oldtemp=temp\n",
    "            temp=v.find(']]',temp+1)\n",
    "            if count==0:\n",
    "                d[k].append(v[oldtemp+2:temp+2]) \n",
    "            else:\n",
    "                d[k].append(v[oldtemp+4:temp+2])\n",
    "           \n",
    "             \n",
    "            count+=1\n",
    "            if temp == -1: break\n",
    "     \n",
    "  "
   ]
  },
  {
   "cell_type": "code",
   "execution_count": 4,
   "metadata": {},
   "outputs": [],
   "source": [
    "##Converting the string of data into dictionary\n",
    "InputX=defaultdict(dict)\n",
    "count=0\n",
    "\n",
    "for key,value in d.items():\n",
    "    Inputx=defaultdict(list)\n",
    "\n",
    "    for value2 in value:\n",
    "        \n",
    "        temp=value2.find('), ')\n",
    "        date=value2[14:temp+3]\n",
    "        try:\n",
    "            year=int(date[1:5])\n",
    "            month=int(date[date.find(',')+2:date.find(',',date.find(',')+1)])\n",
    "            day=int(date[date.find(')')-2:date.find(')')])\n",
    "            sentiment_scoreaf=0\n",
    "            sentiment_scoresn=0\n",
    "            for i in ast.literal_eval(value2[temp+3:-1]):     \n",
    "                sentiment_scoreaf+=af.score(i)\n",
    "  \n",
    "            Inputx[Quarterlookup(DT.datetime(year,month,day))].append(sentiment_scoreaf)\n",
    "            count+=1\n",
    "        except:\n",
    "            pass\n",
    "    InputX[key]=OrderedDict(sorted(Inputx.items()))\n"
   ]
  },
  {
   "cell_type": "code",
   "execution_count": 5,
   "metadata": {},
   "outputs": [
    {
     "name": "stdout",
     "output_type": "stream",
     "text": [
      "{'CVSHealth': 'CVS', 'RiteAid': 'RAD', \"Conn's\": 'CONN', \"Casey's\": 'CASY', 'Kroger': 'KR', 'WeisMarkets': 'WMK', 'HavertyFurniture': 'HVT', \"Kirkland's\": 'KIRK', 'Pier1Imports': 'PIR', 'BuildersFirstSource': 'BLDR', 'HuttigBuildingProducts': 'HBP', 'LumberLiquidators': 'LL', 'TransWorldEntertainment': 'TWMC', 'MarineMax': 'HZO', 'Medifast': 'MED', 'SallyBeauty': 'SBH', \"Sotheby's\": 'BID', 'StarGasPartners': 'SGU', 'SuburbanPropanePartners': 'SPH', 'TitanMachinery': 'TITN', 'TractorSupply': 'TSCO', 'TravelCentersofAmerica': 'TA', 'Big5SportingGoods': 'BGFV', \"Dick'sSportingGoods\": 'DKS', 'HibbettSports': 'HIBB', 'Build-A-BearWorkshop': 'BBW'}\n"
     ]
    }
   ],
   "source": [
    "##List of stockname and relevant stock code\n",
    "l = [(\"CVSHealth\", \"CVS\"),\n",
    "(\"RiteAid\", \"RAD\"),\n",
    "(\"Conn's\", \"CONN\"),\n",
    "(\"Casey's\", \"CASY\"),\n",
    "(\"Kroger\", \"KR\"),\n",
    "(\"WeisMarkets\", \"WMK\"),\n",
    "(\"HavertyFurniture\", \"HVT\"),\n",
    "(\"Kirkland's\", \"KIRK\"),\n",
    "(\"Pier1Imports\",\"PIR\"),\n",
    "(\"BuildersFirstSource\",\"BLDR\"),\n",
    "(\"HuttigBuildingProducts\", \"HBP\"),\n",
    "(\"LumberLiquidators\", \"LL\"),\n",
    "(\"TransWorldEntertainment\", \"TWMC\"),\n",
    "(\"MarineMax\", \"HZO\"),\n",
    "(\"Medifast\", \"MED\"),\n",
    "(\"SallyBeauty\", \"SBH\"),\n",
    "(\"Sotheby's\", \"BID\"),\n",
    "(\"StarGasPartners\", \"SGU\"),\n",
    "(\"SuburbanPropanePartners\", \"SPH\"),\n",
    "(\"TitanMachinery\", \"TITN\"),\n",
    "(\"TractorSupply\",\"TSCO\"),\n",
    "(\"TravelCentersofAmerica\", \"TA\"),\n",
    "(\"Big5SportingGoods\", \"BGFV\"),\n",
    "(\"Dick'sSportingGoods\", \"DKS\"),\n",
    "(\"HibbettSports\", \"HIBB\"),\n",
    "(\"Build-A-BearWorkshop\", \"BBW\")]\n",
    "     \n",
    "all_stock = {}\n",
    "[all_stock.update({k:v}) for k,v in l]\n",
    "print(all_stock)"
   ]
  },
  {
   "cell_type": "code",
   "execution_count": 6,
   "metadata": {},
   "outputs": [],
   "source": [
    "##Read the quarterly return detail from edgaronline and convert into library\n",
    "top=\"http://datafied.api.edgar-online.com/v2/corefinancials/qtr?primarysymbols=\"\n",
    "bottom=\"&appkey=asc97xrhkyu4959aptu76zxj\"\n",
    "Outputy =defaultdict(dict)\n",
    "for stockname,stock in all_stock.items():\n",
    "    check=top+stock+bottom\n",
    "    with urllib.request.urlopen(check) as url:\n",
    "        data = json.loads(url.read().decode())\n",
    "    count1=0\n",
    "    count2=0\n",
    "    end_date=[]\n",
    "    revenue_change=[]\n",
    "    last_rev=0\n",
    "\n",
    "    for key, value in data.items():\n",
    "        \n",
    "        for key2, value2 in value.items():          \n",
    "        \n",
    "            if count1!=0:  \n",
    "                for i in reversed(value2):\n",
    "                  \n",
    "                    for j in i[\"values\"]:\n",
    "                     \n",
    "                        if count2!=0:   \n",
    "                            if j[\"field\"] ==\"periodenddate\":\n",
    "                                end_date.append(Quarterlookup(DT.datetime.strptime(j['value'], '%m/%d/%Y')))\n",
    "                       \n",
    "                            ##Convert revenue into the y_label of 0 for negative growth and 1 for positive growth\n",
    "                            if j[\"field\"] ==\"totalrevenue\":\n",
    "                                revenue_cal =round(float(j['value'])/float(last_rev) - 1,3)\n",
    "                                if revenue_cal>0:\n",
    "                                    revenue_change.append(1)\n",
    "                                else:\n",
    "                                    revenue_change.append(0)\n",
    "                             \n",
    "                        else:\n",
    "                            \n",
    "                            if j[\"field\"] ==\"totalrevenue\":      \n",
    "                                last_rev=j['value']\n",
    "                              \n",
    "                    count2+=1\n",
    "            count1+=1\n",
    "            \n",
    "    ##Output will be a dictionary with stockname\n",
    "    Outputy[stockname][\"period\"]=end_date\n",
    "    Outputy[stockname][\"revenuechange\"]=revenue_change\n",
    "        "
   ]
  },
  {
   "cell_type": "code",
   "execution_count": 43,
   "metadata": {},
   "outputs": [],
   "source": [
    "stock =['CVSHealth', 'RiteAid', \"Conn's\", \"Casey's\", 'Kroger', 'WeisMarkets', 'HavertyFurniture', \"Kirkland's\", 'Pier1Imports', 'BuildersFirstSource', 'HuttigBuildingProducts', 'LumberLiquidators', 'TransWorldEntertainment', 'MarineMax', 'Medifast', 'SallyBeauty',\"Sotheby's\", 'StarGasPartners', 'SuburbanPropanePartners', 'TitanMachinery', 'TractorSupply', 'TravelCentersofAmerica', 'Big5SportingGoods', \"Dick'sSportingGoods\", 'HibbettSports', 'Build-A-BearWorkshop']\n",
    "quarter=['15Q1','15Q2','15Q3','15Q4','16Q1','16Q2','16Q3','16Q4','17Q1','17Q2','17Q3','17Q4','18Q1','18Q2']\n",
    "\n",
    "X_value=[]\n",
    "Y_value=[]\n",
    "for i in stock:\n",
    "    for j in range(len(quarter)):\n",
    "        X_value.append(np.mean(InputX[i][quarter[j]]))\n",
    "        Y_value.append(Outputy[i]['revenuechange'][j])"
   ]
  },
  {
   "cell_type": "code",
   "execution_count": 44,
   "metadata": {},
   "outputs": [],
   "source": [
    "teststock =['CVSHealth', 'RiteAid', \"Conn's\", \"Casey's\", 'Kroger', 'WeisMarkets', 'HavertyFurniture', \"Kirkland's\", 'Pier1Imports', 'BuildersFirstSource', 'HuttigBuildingProducts', 'LumberLiquidators', 'TransWorldEntertainment', 'MarineMax', 'Medifast', 'SallyBeauty',\"Sotheby's\", 'StarGasPartners', 'SuburbanPropanePartners', 'TitanMachinery', 'TractorSupply', 'TravelCentersofAmerica', 'Big5SportingGoods', \"Dick'sSportingGoods\", 'HibbettSports', 'Build-A-BearWorkshop']\n",
    "testquarter=['18Q3']\n",
    "\n",
    "X_valuetest=[]\n",
    "Y_valuetest=[]\n",
    "for i in teststock:\n",
    "    for j in range(len(testquarter)):\n",
    "        X_valuetest.append(np.mean(InputX[i][quarter[j]]))\n",
    "        Y_valuetest.append(Outputy[i]['revenuechange'][j])"
   ]
  },
  {
   "cell_type": "code",
   "execution_count": 41,
   "metadata": {},
   "outputs": [
    {
     "name": "stdout",
     "output_type": "stream",
     "text": [
      "52 52\n"
     ]
    }
   ],
   "source": [
    "print(len(X_valuetest),len(Y_valuetest))"
   ]
  },
  {
   "cell_type": "code",
   "execution_count": 9,
   "metadata": {},
   "outputs": [
    {
     "name": "stdout",
     "output_type": "stream",
     "text": [
      "[1.1982484076433122, 1.1264181523500811, 1.176153846153846, 1.180776243813493, 1.1463288521199586, 1.2232754081095314, 1.1666223050306095, 1.1217345872518287, 1.137191854233655, 1.2099596231493943, 1.1869111280875986, 1.0936091222487403, 1.181159420289855, 1.2067024128686328, 1.1845413212088793, 3.103782432010003, 3.0683986320273595, 3.1150065142721783, 3.126822508735992, 3.1266960029336266, 3.0459086730003064, 3.069900228392836, 3.0545607499098666, 3.0800024261539396, 3.133482792050412, 3.0913003940588055, 3.0554882481221224, 3.09474203291623, 3.0611409723918888, 3.1041064547206165, 0.37250028245396, 0.410342180302698, 0.34383561643835614, 0.35275470048097946, 0.34059493530907886, 0.3860692645505587, 0.4054320987654321, 0.3763505731366204, 0.3668649012567325, 0.4230705024762117, 0.37543497172683776, 0.3559720249153098, 0.4194666517582602, 0.4206064008983717, 0.38907512227290214, 0.8135058056630678, 0.7669218372280419, 0.8119243339605824, 0.817196819085487, 0.7910990009082652, 0.7930232558139535, 0.7844793322734499, 0.8623681356600611, 0.8239212872809265, 0.7669533906781356, 0.8064903846153846, 0.824568406346672, 0.7808841340331045, 0.7801274916523323, 0.7955179282868526, 1.4572601717058604, 1.425334323922734, 1.4013107170393215, 1.4742982136347065, 1.4115920763022745, 1.4102844638949672, 1.37389458790237, 1.3870847331093692, 1.330846698992913, 1.355637707948244, 1.3844731977818854, 1.4577922077922079, 1.4036996735582155, 1.3964497041420119, 1.4678645473393228, 1.9060514877967234, 1.840623940318752, 1.857191431485889, 1.850612785690626, 1.8536342515765019, 1.8961551100887282, 1.8441308531109686, 1.831719532554257, 1.8383023500526132, 1.868099173553719, 1.8898589657488247, 1.842681712578825, 1.8284600389863548, 1.9086003372681282, 1.8682555445216815, 0.4634411524870889, 0.4282215897809253, 0.43850972634355423, 0.4093601510121721, 0.42907518296739855, 0.44892579412152367, 0.4288707037643208, 0.4123306499116434, 0.40687601515971844, 0.4219799215477694, 0.4366279069767442, 0.42618969478175256, 0.42327365728900257, 0.42960052390307796, 0.4256353010703264, 0.319352437662821, 0.31566938985795245, 0.317536231884058, 0.3148262464141763, 0.31277533039647576, 0.309070796460177, 0.3179040852575488, 0.30656855318688453, 0.3192549354946648, 0.31876324830056285, 0.31674517277336306, 0.3174832238978281, 0.32176346587191973, 0.3131461790352846, 0.3196595558153127, 2.1498923914419548, 2.1665058117577947, 2.1332148466561955, 2.1211064144129357, 2.1208601607541135, 2.1583445604580667, 2.1405642222495187, 2.1228715490163665, 2.131707317073171, 2.148155953635406, 2.126006128702758, 2.1341066510890427, 2.1348760609771547, 2.1191441347319153, 2.153858907402802, 0.4338241275522655, 0.44759501782209943, 0.48048544472219984, 0.46959974332237103, 0.4484688704116812, 0.45668714651910325, 0.4535039067244241, 0.4353259571758338, 0.454949029924367, 0.4595888482117713, 0.4406953773212169, 0.44526430385871535, 0.45787635063774473, 0.43711432283208834, 0.44494901210962395, 0.3356453798931675, 0.33766847954599194, 0.3421548610020418, 0.35556335556335555, 0.34787609566493477, 0.3418177546305361, 0.3581630667445028, 0.3516607608737978, 0.36088011777344525, 0.35250049029221414, 0.35621832358674466, 0.33459178857951866, 0.36191321180835617, 0.35859526735106423, 0.3548134824431063, 2.0341789705522473, 2.0260359814028703, 2.063774996982256, 2.013075791900163, 2.0634437408670236, 2.0557130131994494, 2.057281826586807, 2.0824359894711653, 2.009223736837809, 2.023843930635838, 2.0397938961553708, 2.0043270964381588, 2.1170447127937337, 2.1176470588235294, 2.042984170022728, -0.39645922746781115, -0.4186530155175172, -0.40506480082690627, -0.3785665963627681, -0.3924091090691171, -0.4038446199250219, -0.4212152420185376, -0.40239251736180803, -0.3687319239072875, -0.4277378097521982, -0.40124429043943927, -0.3911591667991732, -0.42379483850024346, -0.38487394957983195, -0.38350884164514204, 1.8684244819947005, 1.8600644942294637, 1.8985354324061958, 1.8848068162645522, 1.915184502635752, 1.8875683589544847, 1.8647435082814419, 1.9140958709065021, 1.8811691423095351, 1.8587135788894997, 1.9205247886968588, 1.9183415497408671, 1.8995161569034043, 1.898939380874364, 1.878832423351533, 1.0799840031993602, 1.0734460491940652, 1.078466796875, 1.0752304490038656, 1.0707156402834614, 1.0787935816164818, 1.0585109000541313, 1.109056216057537, 1.076147984760377, 1.0635045853466127, 1.077774483644629, 1.0891274374630688, 1.0769955379276153, 1.0877184346541964, 1.0941584158415842, 2.7378362386782578, 2.693033119754535, 2.68212098180355, 2.7150716032134126, 2.7291476546815114, 2.6808095475790714, 2.6977563089702494, 2.6984620855187127, 2.7025848505282086, 2.645162740514296, 2.68346470640333, 2.7243054635395962, 2.7292566492384633, 2.708667379298058, 2.7429278165055093, 0.18307223440089826, 0.16779196117733938, 0.15716169876022157, 0.19196311625713836, 0.16049709148598626, 0.19741765480895915, 0.2049453409682457, 0.1903337287873317, 0.1736946181390626, 0.1893330550046968, 0.16943813261722784, 0.18639406361890923, 0.19658853188864453, 0.18479067302596713, 0.2291904218928164, 0.19398928321814088, 0.20278466526797634, 0.20126740788525024, 0.20414088165635266, 0.19975433747888838, 0.19672384484623706, 0.2049956933677864, 0.1981838819523269, 0.2007900191638312, 0.2012463202966701, 0.20067268810702543, 0.19451521054997753, 0.20318294190358469, 0.19853892397838824, 0.19914770565405981, 0.0, 0.0, 0.0, 0.0, 0.0, 0.0, 0.0, 0.0, 0.0, 0.0, 0.0, 0.0, 0.0, 0.0, 0.0, 1.0515017667844524, 1.0615237349345168, 1.0798442906574395, 1.0356274952265232, 1.066360454943132, 1.0555555555555556, 1.0417223972041247, 1.0427914243555247, 1.0461722700257252, 1.0525385742608395, 1.033397279386118, 1.0644384221619994, 1.0350088183421517, 1.0652504452843303, 1.0415104212086859, 1.5823682748600487, 1.546997877917863, 1.539627184788475, 1.529996671659178, 1.5506672226855713, 1.541066464493303, 1.5552489600922532, 1.5384743158506706, 1.5543889479277364, 1.5343721356553621, 1.5566921014642194, 1.554787759131293, 1.554951871657754, 1.5509668683620361, 1.5247043309844646, 0.4298110677237408, 0.44661219064002816, 0.45404135700258, 0.4441142416055577, 0.4729145767420326, 0.43885400313971745, 0.44492725509214354, 0.4482437415098001, 0.4387476775902281, 0.44323006762069506, 0.4564396857186874, 0.4570335150179752, 0.46049455984174087, 0.45311321877852295, 0.46065681318257246, -0.09711573566995253, -0.06751339909021303, 0.009157426942586524, -0.029580827732578707, -0.05142651101996665, -0.02923635711403076, -0.05340061430451953, -0.033595870600275884, -0.06555499564799121, -0.04840896763695534, -0.05233336307664852, 4.466080121477379e-05, -0.023361512589764568, -0.06684753602561821, -0.0600080367906416, -1.1752202376141598, -1.186554016176824, -1.1712342232532535, -1.141070076889367, -1.1985996180776575, -1.2016769638128861, -1.1813758723828514, -1.1641009488562541, -1.1765084214334527, -1.1672507167887862, -1.1611773501751073, -1.163036665622062, -1.1645308646966084, -1.151190143933655, -1.1845640251172402, 0.5580303933253874, 0.5513322016384973, 0.5413644024327691, 0.5394494058602111, 0.5601665922951063, 0.5312267657992565, 0.5483679525222552, 0.5408494322371332, 0.565536552141668, 0.5533785293898532, 0.5531400966183575, 0.5713656710941513, 0.5459228731233441, 0.5569209891435465, 0.5554831704668838, 1.2754827983118047, 1.2890119250425895, 1.3262936474547748, 1.3059276624246483, 1.3030926104653602, 1.3120467536899583, 1.3060648206684369, 1.3181114227114814, 1.2915261382799326, 1.293705995306166, 1.316130651164736, 1.3003734510269904, 1.298730909873091, 1.289968186638388, 1.2726926977687627] [0, 1, 1, 1, 1, 1, 1, 1, 1, 1, 1, 1, 1, 1, 1, 1, 0, 1, 1, 0, 1, 1, 0, 0, 0, 0, 0, 0, 0, 0, 1, 0, 1, 1, 1, 1, 1, 1, 1, 0, 0, 1, 1, 0, 1, 0, 0, 0, 0, 0, 0, 0, 0, 0, 0, 0, 1, 0, 0, 1, 1, 1, 1, 1, 1, 1, 1, 1, 1, 1, 1, 1, 1, 1, 1, 0, 1, 0, 1, 1, 1, 1, 1, 1, 1, 1, 1, 1, 1, 1, 0, 0, 0, 1, 0, 0, 0, 1, 0, 0, 0, 1, 0, 0, 0, 0, 0, 0, 1, 0, 0, 0, 1, 0, 0, 0, 1, 0, 0, 0, 1, 0, 0, 0, 1, 0, 0, 0, 1, 0, 0, 0, 1, 0, 0, 0, 1, 1, 1, 1, 1, 1, 1, 1, 1, 1, 1, 1, 1, 1, 1, 1, 1, 1, 1, 1, 1, 1, 1, 1, 1, 1, 1, 1, 1, 0, 0, 0, 0, 0, 0, 0, 0, 0, 0, 0, 0, 0, 1, 0, 1, 1, 0, 0, 1, 1, 0, 0, 1, 1, 1, 1, 1, 1, 1, 1, 1, 1, 1, 1, 1, 1, 1, 1, 1, 1, 1, 1, 1, 1, 1, 1, 1, 0, 1, 1, 1, 1, 1, 1, 1, 1, 1, 1, 1, 0, 1, 0, 1, 1, 1, 1, 1, 1, 1, 1, 1, 1, 1, 1, 0, 0, 0, 0, 0, 0, 0, 0, 0, 0, 0, 0, 0, 0, 0, 1, 1, 1, 0, 1, 1, 0, 0, 1, 1, 1, 0, 1, 1, 1, 1, 0, 0, 0, 0, 0, 0, 0, 1, 0, 0, 0, 1, 0, 0, 0, 0, 0, 0, 0, 0, 0, 0, 0, 0, 0, 0, 0, 0, 0, 0, 1, 0, 1, 0, 1, 0, 1, 0, 1, 1, 1, 1, 1, 1, 0, 0, 0, 0, 0, 0, 0, 0, 0, 0, 0, 1, 0, 1, 0, 0, 0, 1, 1, 0, 0, 1, 1, 1, 0, 1, 0, 0, 0, 1, 0, 0, 0, 1, 0, 0, 0, 1, 0, 0, 0, 1, 0, 1, 0, 1, 0, 0, 1, 1, 0, 0, 1, 1, 0, 0, 1, 1, 0, 0, 1, 1, 0, 0, 1, 1, 1, 0, 0, 0, 0, 1, 0, 0, 0]\n"
     ]
    }
   ],
   "source": [
    "print(X_value,Y_value)"
   ]
  },
  {
   "cell_type": "code",
   "execution_count": 45,
   "metadata": {},
   "outputs": [
    {
     "name": "stdout",
     "output_type": "stream",
     "text": [
      "0.11658408514520843\n"
     ]
    }
   ],
   "source": [
    "print(np.corrcoef(X_value,Y_value)[0, 1])"
   ]
  },
  {
   "cell_type": "code",
   "execution_count": 15,
   "metadata": {},
   "outputs": [
    {
     "name": "stdout",
     "output_type": "stream",
     "text": [
      "390\n",
      "390\n"
     ]
    }
   ],
   "source": [
    "print(len(X_value))\n",
    "print(len(Y_value))\n"
   ]
  },
  {
   "cell_type": "code",
   "execution_count": 46,
   "metadata": {},
   "outputs": [
    {
     "name": "stdout",
     "output_type": "stream",
     "text": [
      "                            OLS Regression Results                            \n",
      "==============================================================================\n",
      "Dep. Variable:                      y   R-squared:                       0.308\n",
      "Model:                            OLS   Adj. R-squared:                  0.306\n",
      "Method:                 Least Squares   F-statistic:                     161.4\n",
      "Date:                Sun, 02 Dec 2018   Prob (F-statistic):           7.55e-31\n",
      "Time:                        08:29:00   Log-Likelihood:                -330.26\n",
      "No. Observations:                 364   AIC:                             662.5\n",
      "Df Residuals:                     363   BIC:                             666.4\n",
      "Df Model:                           1                                         \n",
      "Covariance Type:            nonrobust                                         \n",
      "==============================================================================\n",
      "                 coef    std err          t      P>|t|      [0.025      0.975]\n",
      "------------------------------------------------------------------------------\n",
      "x1             0.3010      0.024     12.705      0.000       0.254       0.348\n",
      "==============================================================================\n",
      "Omnibus:                       60.388   Durbin-Watson:                   0.837\n",
      "Prob(Omnibus):                  0.000   Jarque-Bera (JB):               15.423\n",
      "Skew:                          -0.145   Prob(JB):                     0.000448\n",
      "Kurtosis:                       2.034   Cond. No.                         1.00\n",
      "==============================================================================\n",
      "\n",
      "Warnings:\n",
      "[1] Standard Errors assume that the covariance matrix of the errors is correctly specified.\n"
     ]
    }
   ],
   "source": [
    "import statsmodels.api as sm\n",
    "\n",
    "model = sm.OLS(Y_value, X_value)\n",
    "results2 = model.fit()\n",
    "print(results2.summary())"
   ]
  },
  {
   "cell_type": "code",
   "execution_count": 52,
   "metadata": {},
   "outputs": [
    {
     "name": "stdout",
     "output_type": "stream",
     "text": [
      "Average precision score: 0.46\n"
     ]
    }
   ],
   "source": [
    "Right=0\n",
    "Total=0\n",
    "for i in range(len(X_valuetest)):\n",
    "    if X_valuetest[i]>0:\n",
    "        if Y_valuetest[i]==1:\n",
    "            Right+=1\n",
    "            Total+=1\n",
    "        else:\n",
    "            Total+=1\n",
    "    else:\n",
    "        if Y_valuetest[i]==0:\n",
    "            Right+=1\n",
    "            Total+=1\n",
    "        else:\n",
    "            Total+=1\n",
    "\n",
    "\n",
    "\n",
    "print('Average precision score: {0:0.2f}'.format(\n",
    "      Right/Total))"
   ]
  },
  {
   "cell_type": "code",
   "execution_count": 51,
   "metadata": {},
   "outputs": [
    {
     "name": "stdout",
     "output_type": "stream",
     "text": [
      "Average precision-recall score: 0.84\n"
     ]
    }
   ],
   "source": [
    "from sklearn.metrics import average_precision_score\n",
    "\n",
    "y_pred=[]\n",
    "for i in X_valuetest:\n",
    "    if i>0:\n",
    "        y_pred.append(1)\n",
    "    else:\n",
    "        y_pred.append(0)\n",
    "    \n",
    "\n",
    "average_precision = average_precision_score(y_pred,Y_valuetest)\n",
    "\n",
    "print('Average precision score: {0:0.2f}'.format(\n",
    "      average_precision))"
   ]
  },
  {
   "cell_type": "code",
   "execution_count": 50,
   "metadata": {},
   "outputs": [
    {
     "name": "stdout",
     "output_type": "stream",
     "text": [
      "[1.1982484076433122, 3.103782432010003, 0.37250028245396, 0.8135058056630678, 1.4572601717058604, 1.9060514877967234, 0.4634411524870889, 0.319352437662821, 2.1498923914419548, 0.4338241275522655, 0.3356453798931675, 2.0341789705522473, -0.39645922746781115, 1.8684244819947005, 1.0799840031993602, 2.7378362386782578, 0.18307223440089826, 0.19398928321814088, 0.0, 1.0515017667844524, 1.5823682748600487, 0.4298110677237408, -0.09711573566995253, -1.1752202376141598, 0.5580303933253874, 1.2754827983118047]\n"
     ]
    }
   ],
   "source": [
    "print(X_valuetest)"
   ]
  },
  {
   "cell_type": "code",
   "execution_count": null,
   "metadata": {},
   "outputs": [],
   "source": []
  }
 ],
 "metadata": {
  "kernelspec": {
   "display_name": "Python 3",
   "language": "python",
   "name": "python3"
  },
  "language_info": {
   "codemirror_mode": {
    "name": "ipython",
    "version": 3
   },
   "file_extension": ".py",
   "mimetype": "text/x-python",
   "name": "python",
   "nbconvert_exporter": "python",
   "pygments_lexer": "ipython3",
   "version": "3.6.5"
  }
 },
 "nbformat": 4,
 "nbformat_minor": 2
}
