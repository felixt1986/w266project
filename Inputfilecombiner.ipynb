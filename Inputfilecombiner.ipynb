{
 "cells": [
  {
   "cell_type": "code",
   "execution_count": 5,
   "metadata": {},
   "outputs": [],
   "source": [
    "filenames = ['RiteAidinputdata','CVSHealthinputdata','Connsinputdata','caseyinputdata','Krogerinputdata','SUPERVALUinputdata','WeisMarketsinputdata','Kirklandinputdata','HavertyFurnitureinputdata','Pier1Importsinputdata','BuildersFirstSourceinputdata','HuttigBuildingProductsinputdata','LumberLiquidatorsinputdata','TransWorldEntertainmentinputdata','MarineMaxinputdata','Medifastinputdata','SallyBeautyinputdata','Sothebysinputdata','StarGasPartnersinputdata','SuburbanPropanePartnersinputdata','TitanMachineryinputdata','TractorSupplyinputdata','TravelCentersofAmericainputdata','Big5SportingGoodsinputdata','DicksSportingGoodsinputdata','HibbettSportsinputdata','Build-A-BearWorkshopinputdata']\n",
    "with open('inputdata', 'w') as outfile:\n",
    "    for fname in filenames:\n",
    "        with open(fname) as infile:\n",
    "            for line in infile:\n",
    "                outfile.write(line)"
   ]
  },
  {
   "cell_type": "code",
   "execution_count": null,
   "metadata": {},
   "outputs": [],
   "source": []
  }
 ],
 "metadata": {
  "kernelspec": {
   "display_name": "Python 3",
   "language": "python",
   "name": "python3"
  },
  "language_info": {
   "codemirror_mode": {
    "name": "ipython",
    "version": 3
   },
   "file_extension": ".py",
   "mimetype": "text/x-python",
   "name": "python",
   "nbconvert_exporter": "python",
   "pygments_lexer": "ipython3",
   "version": "3.6.5"
  }
 },
 "nbformat": 4,
 "nbformat_minor": 2
}
