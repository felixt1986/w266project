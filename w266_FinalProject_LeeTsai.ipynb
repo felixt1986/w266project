{
 "cells": [
  {
   "cell_type": "code",
   "execution_count": 102,
   "metadata": {},
   "outputs": [],
   "source": [
    "import dropbox\n",
    "import urllib.request, json \n",
    "from collections import defaultdict\n",
    "from collections import OrderedDict\n",
    "import datetime as DT\n",
    "import ast\n",
    "from __future__ import print_function\n",
    "from __future__ import division\n",
    "import collections\n",
    "import nltk\n",
    "import numpy as np\n",
    "from string import punctuation\n",
    "import csv\n",
    "from nltk.tokenize.treebank import TreebankWordTokenizer\n",
    "tokenizer = TreebankWordTokenizer()\n",
    "\n",
    "# Helper libraries\n",
    "from w266_common import utils, vocabulary\n",
    "\n",
    "########################### DLEE IMPORTS ##################################\n",
    "\n",
    "# Import pandas and tensorflow\n",
    "import pandas as pd\n",
    "import tensorflow as tf\n",
    "assert(tf.__version__.startswith(\"1.10\"))\n",
    "\n",
    "# Import model\n",
    "import models\n",
    "\n",
    "# Import misc\n",
    "from importlib import reload\n",
    "import os, sys, re, json, time, datetime, shutil\n",
    "import itertools\n",
    "from w266_common import patched_numpy_io"
   ]
  },
  {
   "cell_type": "code",
   "execution_count": 80,
   "metadata": {},
   "outputs": [],
   "source": [
    "##Download the pre-processed tweets from dropbox\n",
    "\n",
    "access_token = 'p3Ze8FpdRTAAAAAAAAAADb9hCQ8aXXYU3A3gGM1HEXyeMrs8KI2SrA71KDmmCXte'\n",
    "dbx = dropbox.Dropbox(access_token)\n",
    "metadata, res = dbx.files_download(path=\"/Inputdata2.txt\")\n",
    "\n",
    "\n",
    "access_token2 = 'm_fKi8mWZ0AAAAAAAAAADlfzTm37f1y45k92Xpiw1B6mjT3dQqzNvKgpIUSR17uq'\n",
    "dbx2 = dropbox.Dropbox(access_token2)\n",
    "\n",
    "#Write the combined file into the drive\n",
    "with open(\"InputX.txt\", \"wb\") as f:\n",
    "    metadata, res = dbx.files_download(path=\"/Inputdata2.txt\")\n",
    "    metadata2, res2 = dbx2.files_download(path=\"/Inputdata.txt\")\n",
    "    f.write(res.content)\n",
    "    f.write(res2.content)"
   ]
  },
  {
   "cell_type": "code",
   "execution_count": 82,
   "metadata": {},
   "outputs": [
    {
     "name": "stdout",
     "output_type": "stream",
     "text": [
      "[*********************100%***********************]  1 of 1 downloaded\n",
      "[*********************100%***********************]  1 of 1 downloaded\n"
     ]
    }
   ],
   "source": [
    "##Translate date of the tweet to quarter reference\n",
    "def Quarterlookup(date):\n",
    "    if date>=DT.datetime(2018,10,1):\n",
    "        return '18Q4'\n",
    "    elif date>=DT.datetime(2018,7,1):\n",
    "        return '18Q3'\n",
    "    elif date>=DT.datetime(2018,4,1):\n",
    "        return '18Q2'\n",
    "    elif date>=DT.datetime(2018,1,1):\n",
    "        return '18Q1'\n",
    "    elif date>=DT.datetime(2017,10,1):\n",
    "        return '17Q4'\n",
    "    elif date>=DT.datetime(2017,7,1):\n",
    "        return '17Q3'\n",
    "    elif date>=DT.datetime(2017,4,1):\n",
    "        return '17Q2'\n",
    "    elif date>=DT.datetime(2017,1,1):\n",
    "        return '17Q1'\n",
    "    elif date>=DT.datetime(2016,10,1):\n",
    "        return '16Q4'\n",
    "    elif date>=DT.datetime(2016,7,1):\n",
    "        return '16Q3'\n",
    "    elif date>=DT.datetime(2016,4,1):\n",
    "        return '16Q2'\n",
    "    elif date>=DT.datetime(2016,1,1):\n",
    "        return '16Q1'\n",
    "    elif date>=DT.datetime(2015,10,1):\n",
    "        return '15Q4'\n",
    "    elif date>=DT.datetime(2015,7,1):\n",
    "        return '15Q3'\n",
    "    elif date>=DT.datetime(2015,4,1):\n",
    "        return '15Q2'\n",
    "    else:\n",
    "        return '15Q1'"
   ]
  },
  {
   "cell_type": "code",
   "execution_count": 83,
   "metadata": {},
   "outputs": [
    {
     "name": "stdout",
     "output_type": "stream",
     "text": [
      "defaultdict(<class 'list'>, {'AAPL': [[Timestamp('2016-01-04 00:00:00'), 0.085498763338422989], [Timestamp('2016-01-05 00:00:00'), -2.5059317039569406], [Timestamp('2016-01-06 00:00:00'), -1.9569681818417699], [Timestamp('2016-01-07 00:00:00'), -4.2204569281168896], [Timestamp('2016-01-08 00:00:00'), 0.52877347419720511], [Timestamp('2016-01-11 00:00:00'), 1.619224439142174], [Timestamp('2016-01-12 00:00:00'), 1.4513346336276656], [Timestamp('2016-01-13 00:00:00'), -2.5710284370851118], [Timestamp('2016-01-14 00:00:00'), 2.1870808315749142]], 'GOOGL': [[Timestamp('2016-01-04 00:00:00'), -2.3868597783208512], [Timestamp('2016-01-05 00:00:00'), 0.27520633552301049], [Timestamp('2016-01-06 00:00:00'), -0.28889366357475776], [Timestamp('2016-01-07 00:00:00'), -2.4139723953517827], [Timestamp('2016-01-08 00:00:00'), -1.3616770580296846], [Timestamp('2016-01-11 00:00:00'), 0.29552668314733693], [Timestamp('2016-01-12 00:00:00'), 1.6737855706596834], [Timestamp('2016-01-13 00:00:00'), -3.4574850493035352], [Timestamp('2016-01-14 00:00:00'), 1.6426487881671852]]})\n"
     ]
    }
   ],
   "source": [
    "##Reading the Input X file and process it\n",
    "d=defaultdict(list)\n",
    "\n",
    "with open('InputX.txt') as f:\n",
    "    for line in f:\n",
    "        count=0\n",
    "        temp =-1\n",
    "        k,v=line.split(':',1)\n",
    "        while True:\n",
    "            \n",
    "            oldtemp=temp\n",
    "            temp=v.find(']]',temp+1)\n",
    "            if count==0:\n",
    "                d[k].append(v[oldtemp+2:temp+2]) \n",
    "            else:\n",
    "                d[k].append(v[oldtemp+4:temp+2])\n",
    "           \n",
    "             \n",
    "            count+=1\n",
    "            if temp == -1: break\n",
    "#             if count == 500: break  # initially limit for time sake\n",
    "    "
   ]
  },
  {
   "cell_type": "code",
   "execution_count": null,
   "metadata": {},
   "outputs": [],
   "source": [
    "with open('vocab.csv', 'r') as f:\n",
    "    reader = csv.reader(f,delimiter=';')\n",
    "    allword = set(list(reader)[0])"
   ]
  },
  {
   "cell_type": "code",
   "execution_count": null,
   "metadata": {
    "collapsed": true
   },
   "outputs": [],
   "source": [
    "allword=sorted(allword)\n",
    "vocab = vocabulary.Vocabulary(allword, size=None)  # size=None means unlimited\n",
    "print(\"Vocabulary size: {:,}\".format(vocab.size))"
   ]
  },
  {
   "cell_type": "code",
   "execution_count": null,
   "metadata": {
    "collapsed": true
   },
   "outputs": [],
   "source": [
    "def pad_np_array(example_ids, max_len=50, pad_id=0):\n",
    "\n",
    "    arr = np.full([len(example_ids), max_len], pad_id, dtype=np.int32)\n",
    "    ns = np.zeros([len(example_ids)], dtype=np.int32)\n",
    "    cpy_len = min(len(example_ids), max_len)\n",
    "\n",
    "    arr = example_ids[:cpy_len]\n",
    "    ns = cpy_len\n",
    "    return arr, ns"
   ]
  },
  {
   "cell_type": "code",
   "execution_count": null,
   "metadata": {},
   "outputs": [],
   "source": [
    "InputX=defaultdict(dict)\n",
    "InputN=defaultdict(dict)"
   ]
  },
  {
   "cell_type": "code",
   "execution_count": null,
   "metadata": {
    "collapsed": true
   },
   "outputs": [],
   "source": [
    "##Converting the string of data into dictionary\n",
    "instock =['CVSHealth', 'RiteAid', \"Conn's\", \"Casey's\", 'Kroger','WeisMarkets', 'HavertyFurniture', \"Kirkland's\", 'Pier1Imports', 'BuildersFirstSource', 'HuttigBuildingProducts', 'LumberLiquidators', 'TransWorldEntertainment', 'MarineMax', 'Medifast', 'SallyBeauty',\"Sotheby's\", 'StarGasPartners', 'SuburbanPropanePartners', 'TitanMachinery', 'TractorSupply', 'TravelCentersofAmerica', 'Big5SportingGoods', \"Dick'sSportingGoods\", 'HibbettSports', 'Build-A-BearWorkshop']\n",
    "\n",
    "\n",
    "for key,value in d.items():\n",
    "    Inputx=defaultdict(list)\n",
    "    Inputn=defaultdict(list)\n",
    "    if key in instock:\n",
    "        for value2 in value:\n",
    "        \n",
    "            temp=value2.find('), ')\n",
    "            date=value2[14:temp+3]\n",
    "            try:\n",
    "                year=int(date[1:5])\n",
    "                month=int(date[date.find(',')+2:date.find(',',date.find(',')+1)])\n",
    "                day=int(date[date.find(')')-2:date.find(')')])\n",
    "            \n",
    "                sentence, length = pad_np_array (vocab.words_to_ids(ast.literal_eval(value2[temp+3:-1])))\n",
    "            \n",
    "                Inputx[Quarterlookup(DT.datetime(year,month,day))].append(sentence)\n",
    "                Inputn[Quarterlookup(DT.datetime(year,month,day))].append(length)\n",
    "            except:\n",
    "                pass\n",
    "\n",
    "    InputX[key]=OrderedDict(sorted(Inputx.items()))\n",
    "    InputN[key]=OrderedDict(sorted(Inputn.items()))"
   ]
  },
  {
   "cell_type": "code",
   "execution_count": null,
   "metadata": {
    "collapsed": true
   },
   "outputs": [],
   "source": [
    "##List of stockname and relevant stock code\n",
    "l = [(\"CVSHealth\", \"CVS\"),\n",
    "(\"RiteAid\", \"RAD\"),\n",
    "(\"Conn's\", \"CONN\"),\n",
    "(\"Casey's\", \"CASY\"),\n",
    "(\"Kroger\", \"KR\"),\n",
    "(\"WeisMarkets\", \"WMK\"),\n",
    "(\"HavertyFurniture\", \"HVT\"),\n",
    "(\"Kirkland's\", \"KIRK\"),\n",
    "(\"Pier1Imports\",\"PIR\"),\n",
    "(\"BuildersFirstSource\",\"BLDR\"),\n",
    "(\"HuttigBuildingProducts\", \"HBP\"),\n",
    "(\"LumberLiquidators\", \"LL\"),\n",
    "(\"TransWorldEntertainment\", \"TWMC\"),\n",
    "(\"MarineMax\", \"HZO\"),\n",
    "(\"Medifast\", \"MED\"),\n",
    "(\"SallyBeauty\", \"SBH\"),\n",
    "(\"Sotheby's\", \"BID\"),\n",
    "(\"StarGasPartners\", \"SGU\"),\n",
    "(\"SuburbanPropanePartners\", \"SPH\"),\n",
    "(\"TitanMachinery\", \"TITN\"),\n",
    "(\"TractorSupply\",\"TSCO\"),\n",
    "(\"TravelCentersofAmerica\", \"TA\"),\n",
    "(\"Big5SportingGoods\", \"BGFV\"),\n",
    "(\"Dick'sSportingGoods\", \"DKS\"),\n",
    "(\"HibbettSports\", \"HIBB\"),\n",
    "(\"Build-A-BearWorkshop\", \"BBW\")]\n",
    "     \n",
    "all_stock = {}\n",
    "[all_stock.update({k:v}) for k,v in l]\n",
    "print(all_stock)"
   ]
  },
  {
   "cell_type": "code",
   "execution_count": null,
   "metadata": {
    "collapsed": true
   },
   "outputs": [],
   "source": [
    "##Read the quarterly return detail from edgaronline and convert into library\n",
    "top=\"http://datafied.api.edgar-online.com/v2/corefinancials/qtr?primarysymbols=\"\n",
    "bottom=\"&appkey=asc97xrhkyu4959aptu76zxj\"\n",
    "Outputy =defaultdict(dict)\n",
    "for stockname,stock in all_stock.items():\n",
    "    check=top+stock+bottom\n",
    "    with urllib.request.urlopen(check) as url:\n",
    "        data = json.loads(url.read().decode())\n",
    "    count1=0\n",
    "    count2=0\n",
    "    end_date=[]\n",
    "    revenue_change=[]\n",
    "    last_rev=0\n",
    "\n",
    "    for key, value in data.items():\n",
    "        \n",
    "        for key2, value2 in value.items():          \n",
    "        \n",
    "            if count1!=0:  \n",
    "                for i in reversed(value2):\n",
    "                  \n",
    "                    for j in i[\"values\"]:\n",
    "                     \n",
    "                        if count2!=0:   \n",
    "                            if j[\"field\"] ==\"periodenddate\":\n",
    "                                end_date.append(Quarterlookup(DT.datetime.strptime(j['value'], '%m/%d/%Y')))\n",
    "                       \n",
    "                            ##Convert revenue into the y_label of 0 for negative growth and 1 for positive growth\n",
    "                            if j[\"field\"] ==\"totalrevenue\":\n",
    "                                revenue_cal =round(float(j['value'])/float(last_rev) - 1,3)\n",
    "                                if revenue_cal>0:\n",
    "                                    revenue_change.append(1)\n",
    "                                else:\n",
    "                                    revenue_change.append(0)\n",
    "                        else:\n",
    "                            \n",
    "                            if j[\"field\"] ==\"totalrevenue\":      \n",
    "                                last_rev=j['value']\n",
    "                              \n",
    "                    count2+=1\n",
    "            count1+=1\n",
    "            \n",
    "    ##Output will be a dictionary with stockname\n",
    "    Outputy[stockname][\"period\"]=end_date\n",
    "    Outputy[stockname][\"revenuechange\"]=revenue_change"
   ]
  },
  {
   "cell_type": "code",
   "execution_count": null,
   "metadata": {
    "collapsed": true
   },
   "outputs": [],
   "source": [
    "with open('Outputy.txt', 'w') as f:\n",
    "    print(Outputy, file=f)"
   ]
  },
  {
   "cell_type": "code",
   "execution_count": null,
   "metadata": {},
   "outputs": [],
   "source": [
    "train_x = []\n",
    "train_n = []\n",
    "train_y = []\n",
    "test_x = []\n",
    "test_n = []\n",
    "test_y = []"
   ]
  },
  {
   "cell_type": "code",
   "execution_count": null,
   "metadata": {
    "collapsed": true
   },
   "outputs": [],
   "source": [
    "quarter=['15Q1','15Q2','15Q3','15Q4','16Q1','16Q2','16Q3','16Q4','17Q1','17Q2','17Q3','17Q4','18Q1','18Q2','18Q3']\n",
    "\n",
    "for i in instock:\n",
    "    for j in range(len(quarter)):\n",
    "        try:\n",
    "            if quarter[j]=='18Q3':\n",
    "                test_x.append(InputX [i][quarter[j]])\n",
    "                test_n.append(InputN [i][quarter[j]])\n",
    "                length=len(InputN [i][quarter[j]])\n",
    "                test_y.append([Outputy [i]['revenuechange'][j]]*length)                \n",
    "               \n",
    "            else:\n",
    "                train_x.append(InputX [i][quarter[j]])\n",
    "                train_n.append(InputN [i][quarter[j]])\n",
    "                length=len(InputN [i][quarter[j]])           \n",
    "                train_y.append([Outputy [i]['revenuechange'][j]]*length)\n",
    "      \n",
    "        except:\n",
    "            pass"
   ]
  },
  {
   "cell_type": "code",
   "execution_count": null,
   "metadata": {
    "collapsed": true
   },
   "outputs": [],
   "source": [
    "print(train_y[0])\n",
    "print(train_n[0])\n",
    "print(train_x[0])\n",
    "print(train_y[10])\n",
    "print(train_n[10])\n",
    "print(train_x[10])"
   ]
  },
  {
   "cell_type": "code",
   "execution_count": null,
   "metadata": {
    "collapsed": true
   },
   "outputs": [],
   "source": []
  },
  {
   "cell_type": "markdown",
   "metadata": {},
   "source": [
    "# NEURAL BAG OF WORDS MODEL #"
   ]
  },
  {
   "cell_type": "code",
   "execution_count": null,
   "metadata": {
    "collapsed": true
   },
   "outputs": [],
   "source": []
  },
  {
   "cell_type": "code",
   "execution_count": null,
   "metadata": {
    "collapsed": true
   },
   "outputs": [],
   "source": [
    "print(len(train_x[0]))\n",
    "print(len(train_n[0]))\n",
    "print(len(train_y[0]))\n",
    "print(len(train_x[0][0]))"
   ]
  },
  {
   "cell_type": "code",
   "execution_count": null,
   "metadata": {
    "collapsed": true
   },
   "outputs": [],
   "source": [
    "print(train_x[0][0])"
   ]
  },
  {
   "cell_type": "code",
   "execution_count": null,
   "metadata": {
    "collapsed": true
   },
   "outputs": [],
   "source": [
    "train_x_init = train_x\n",
    "train_n_init = train_n\n",
    "train_y_init = train_y"
   ]
  },
  {
   "cell_type": "code",
   "execution_count": null,
   "metadata": {
    "collapsed": true
   },
   "outputs": [],
   "source": [
    "def pad_np_array(example_ids, max_len=50, pad_id=0):\n",
    "   \"\"\"Pad a list of lists of ids into a rectangular NumPy array.\n",
    "\n",
    "   Longer sequences will be truncated to max_len ids, while shorter ones will\n",
    "   be padded with pad_id.\n",
    "\n",
    "   Args:\n",
    "       example_ids: list(list(int)), sequence of ids for each example\n",
    "       max_len: maximum sequence length\n",
    "       pad_id: id to pad shorter sequences with\n",
    "\n",
    "   Returns: (x, ns)\n",
    "       x: [num_examples, max_len] NumPy array of integer ids\n",
    "       ns: [num_examples] NumPy array of sequence lengths (<= max_len)\n",
    "   \"\"\"\n",
    "   arr = np.full([len(example_ids), max_len], pad_id, dtype=np.int32)\n",
    "   ns = np.zeros([len(example_ids)], dtype=np.int32)\n",
    "   for i, ids in enumerate(example_ids):\n",
    "       cpy_len = min(len(ids), max_len)\n",
    "       arr[i,:cpy_len] = ids[:cpy_len]\n",
    "       ns[i] = cpy_len\n",
    "   return arr, ns"
   ]
  },
  {
   "cell_type": "code",
   "execution_count": null,
   "metadata": {
    "collapsed": true
   },
   "outputs": [],
   "source": [
    "print(len(train_x_init[3][4]))\n",
    "print(train_x_init[3][4])"
   ]
  },
  {
   "cell_type": "code",
   "execution_count": null,
   "metadata": {
    "collapsed": true
   },
   "outputs": [],
   "source": [
    "train_x = pad_np_array(train_x_init[0], max_len = 50, pad_id=0)\n",
    "train_n = np.array(train_n_init[0])\n",
    "train_y = np.array(train_y_init[0])\n",
    "\n",
    "test_x = pad_np_array(train_x_init[1], max_len = 50, pad_id=0)\n",
    "test_n = np.array(train_n_init[1])\n",
    "test_y = np.array(train_y_init[1])\n",
    "\n",
    "dev_x = pad_np_array(train_x_init[2], max_len = 50, pad_id=0)\n",
    "dev_n = np.array(train_n_init[2])\n",
    "dev_y = np.array(train_y_init[2])"
   ]
  },
  {
   "cell_type": "code",
   "execution_count": null,
   "metadata": {
    "collapsed": true
   },
   "outputs": [],
   "source": [
    "print(len(train_x))\n",
    "print(len(train_n))\n",
    "print(len(train_y))\n",
    "\n",
    "print(train_x)\n",
    "print(train_n)\n",
    "print(train_y)\n",
    "\n",
    "print(train_x[0])\n",
    "print(train_x[1])\n",
    "# print(train_x[2])"
   ]
  },
  {
   "cell_type": "code",
   "execution_count": null,
   "metadata": {
    "collapsed": true
   },
   "outputs": [],
   "source": [
    "train_x = np.array(train_x[0])\n",
    "dev_x = np.array(dev_x[0])\n",
    "test_x = np.array(test_x[0])"
   ]
  },
  {
   "cell_type": "code",
   "execution_count": null,
   "metadata": {
    "collapsed": true
   },
   "outputs": [],
   "source": [
    "print(len(train_x))\n",
    "print(len(train_x[0]))\n",
    "print(len(dev_x))\n",
    "print(len(dev_x[0]))\n",
    "print(len(test_x))\n",
    "print(len(test_x[0]))"
   ]
  },
  {
   "cell_type": "code",
   "execution_count": null,
   "metadata": {
    "collapsed": true
   },
   "outputs": [],
   "source": [
    "print(train_x)\n",
    "print(train_x[0])"
   ]
  },
  {
   "cell_type": "code",
   "execution_count": null,
   "metadata": {
    "collapsed": true
   },
   "outputs": [],
   "source": [
    "print(len(train_n))\n",
    "print(len(train_y))\n",
    "\n",
    "print(type(train_x))\n",
    "print(type(train_n))\n",
    "print(type(train_y))"
   ]
  },
  {
   "cell_type": "code",
   "execution_count": null,
   "metadata": {
    "collapsed": true
   },
   "outputs": [],
   "source": [
    "reload(models)\n",
    "\n",
    "x, ns, y = train_x, train_n, train_y\n",
    "batch_size = 25\n",
    "\n",
    "# Specify model hyperparameters as used by model_fn\n",
    "model_params = dict(V=vocab.size, embed_dim=50, hidden_dims=[25], num_classes=2,\n",
    "                    encoder_type='bow',\n",
    "                    lr=0.1, optimizer='adagrad', beta=0.01)\n",
    "model_fn = models.classifier_model_fn\n",
    "\n",
    "total_batches = 0\n",
    "total_examples = 0\n",
    "total_loss = 0\n",
    "loss_ema = np.log(2)  # track exponential-moving-average of loss\n",
    "ema_decay = np.exp(-1/10)  # decay parameter for moving average = np.exp(-1/history_length)\n",
    "with tf.Graph().as_default(), tf.Session() as sess:\n",
    "    ##\n",
    "    # Construct the graph here. No session.run calls - just wiring up Tensors.\n",
    "    ##\n",
    "    # Add placeholders so we can feed in data.\n",
    "    x_ph_  = tf.placeholder(tf.int32, shape=[None, x.shape[1]])  # [batch_size, max_len]\n",
    "    ns_ph_ = tf.placeholder(tf.int32, shape=[None])              # [batch_size]\n",
    "    y_ph_  = tf.placeholder(tf.int32, shape=[None])              # [batch_size]\n",
    "    \n",
    "    # Construct the graph using model_fn\n",
    "    features = {\"ids\": x_ph_, \"ns\": ns_ph_}  # note that values are Tensors\n",
    "    estimator_spec = model_fn(features, labels=y_ph_, mode=tf.estimator.ModeKeys.TRAIN,\n",
    "                              params=model_params)\n",
    "    loss_     = estimator_spec.loss\n",
    "    train_op_ = estimator_spec.train_op\n",
    "    \n",
    "    ##\n",
    "    # Done constructing the graph, now we can make session.run calls.\n",
    "    ##\n",
    "    sess.run(tf.global_variables_initializer())\n",
    "    \n",
    "    # Run a single epoch\n",
    "    t0 = time.time()\n",
    "    for (bx, bns, by) in utils.multi_batch_generator(batch_size, x, ns, y):\n",
    "        # feed NumPy arrays into the placeholder Tensors\n",
    "        feed_dict = {x_ph_: bx, ns_ph_: bns, y_ph_: by}\n",
    "        batch_loss, _ = sess.run([loss_, train_op_], feed_dict=feed_dict)\n",
    "        \n",
    "        # Compute some statistics\n",
    "        total_batches += 1\n",
    "        total_examples += len(bx)\n",
    "        total_loss += batch_loss * len(bx)  # re-scale, since batch loss is mean\n",
    "        # Compute moving average to smooth out noisy per-batch loss\n",
    "        loss_ema = ema_decay * loss_ema + (1 - ema_decay) * batch_loss\n",
    "        \n",
    "        if (total_batches % 25 == 0):\n",
    "            print(\"{:5,} examples, moving-average loss {:.2f}\".format(total_examples, \n",
    "                                                                      loss_ema))    \n",
    "    print(\"Completed one epoch in {:s}\".format(utils.pretty_timedelta(since=t0)))"
   ]
  },
  {
   "cell_type": "code",
   "execution_count": null,
   "metadata": {
    "collapsed": true
   },
   "outputs": [],
   "source": [
    "import models; reload(models)\n",
    "\n",
    "# Specify model hyperparameters as used by model_fn\n",
    "model_params = dict(V=vocab.size, embed_dim=50, hidden_dims=[25], num_classes=2,\n",
    "                    encoder_type='bow',\n",
    "                    lr=0.1, optimizer='adagrad', beta=0.01)\n",
    "\n",
    "checkpoint_dir = \"/tmp/tf_bow_sst_\" + datetime.datetime.now().strftime(\"%Y%m%d-%H%M\")\n",
    "if os.path.isdir(checkpoint_dir):\n",
    "    shutil.rmtree(checkpoint_dir)\n",
    "# Write vocabulary to file, so TensorBoard can label embeddings.\n",
    "# creates checkpoint_dir/projector_config.pbtxt and checkpoint_dir/metadata.tsv\n",
    "vocab.write_projector_config(checkpoint_dir, \"Encoder/Embedding_Layer/W_embed\")\n",
    "\n",
    "model = tf.estimator.Estimator(model_fn=models.classifier_model_fn, \n",
    "                               params=model_params,\n",
    "                               model_dir=checkpoint_dir)\n",
    "print(\"\")\n",
    "print(\"To view training (once it starts), run:\\n\")\n",
    "print(\"    tensorboard --logdir='{:s}' --port 6006\".format(checkpoint_dir))\n",
    "print(\"\\nThen in your browser, open: http://localhost:6006\")"
   ]
  },
  {
   "cell_type": "code",
   "execution_count": null,
   "metadata": {
    "collapsed": true
   },
   "outputs": [],
   "source": [
    "# Training params, just used in this cell for the input_fn-s\n",
    "train_params = dict(batch_size=25, total_epochs=10, eval_every=2)\n",
    "assert(train_params['total_epochs'] % train_params['eval_every'] == 0)\n",
    "\n",
    "# Construct and train the model, saving checkpoints to the directory above.\n",
    "# Input function for training set batches\n",
    "# Do 'eval_every' epochs at once, followed by evaluating on the dev set.\n",
    "# NOTE: use patch_numpy_io.numpy_input_fn instead of tf.estimator.inputs.numpy_input_fn\n",
    "train_input_fn = patched_numpy_io.numpy_input_fn(\n",
    "                    x={\"ids\": train_x, \"ns\": train_n}, y=train_y,\n",
    "                    batch_size=train_params['batch_size'], \n",
    "                    num_epochs=train_params['eval_every'], shuffle=True, seed=42\n",
    "                 )\n",
    "\n",
    "# Input function for dev set batches. As above, but:\n",
    "# - Don't randomize order\n",
    "# - Iterate exactly once (one epoch)\n",
    "dev_input_fn = tf.estimator.inputs.numpy_input_fn(\n",
    "                    x={\"ids\": dev_x, \"ns\": dev_n}, y=dev_y,\n",
    "                    batch_size=25, num_epochs=1, shuffle=False\n",
    "                )\n",
    "\n",
    "for _ in range(train_params['total_epochs'] // train_params['eval_every']):\n",
    "    # Train for a few epochs, then evaluate on dev\n",
    "    model.train(input_fn=train_input_fn)\n",
    "    eval_metrics = model.evaluate(input_fn=dev_input_fn, name=\"dev\")"
   ]
  },
  {
   "cell_type": "code",
   "execution_count": null,
   "metadata": {
    "collapsed": true
   },
   "outputs": [],
   "source": [
    "#### YOUR CODE HERE ####\n",
    "# Code for Part (f).1\n",
    "# test_input_fn = None  # replace with an input_fn, similar to dev_input_fn\n",
    "\n",
    "test_input_fn = tf.estimator.inputs.numpy_input_fn(\n",
    "                    x={\"ids\": test_x, \"ns\": test_n}, y=test_y,\n",
    "                    batch_size=128, num_epochs=1, shuffle=False\n",
    "                )\n",
    "\n",
    "eval_metrics = model.evaluate(input_fn = test_input_fn)  # replace with result of model.evaluate(...)\n",
    "\n",
    "#### END(YOUR CODE) ####\n",
    "print(\"Accuracy on test set: {:.02%}\".format(eval_metrics['accuracy']))\n",
    "eval_metrics"
   ]
  },
  {
   "cell_type": "code",
   "execution_count": null,
   "metadata": {
    "collapsed": true
   },
   "outputs": [],
   "source": [
    "from sklearn.metrics import accuracy_score\n",
    "predictions = list(model.predict(test_input_fn))  # list of dicts\n",
    "y_pred = [p['max'] for p in predictions]\n",
    "acc = accuracy_score(y_pred, test_y)\n",
    "\n",
    "print(\"Accuracy on test set: {:.02%}\".format(acc))"
   ]
  },
  {
   "cell_type": "code",
   "execution_count": null,
   "metadata": {
    "collapsed": true
   },
   "outputs": [],
   "source": [
    "# predicted labels\n",
    "print(y_pred[:50])\n",
    "print(predictions[:2])"
   ]
  },
  {
   "cell_type": "code",
   "execution_count": null,
   "metadata": {
    "collapsed": true
   },
   "outputs": [],
   "source": []
  }
 ],
 "metadata": {
  "anaconda-cloud": {},
  "kernelspec": {
   "display_name": "Python 3",
   "language": "python",
   "name": "python3"
  },
  "language_info": {
   "codemirror_mode": {
    "name": "ipython",
    "version": 3
   },
   "file_extension": ".py",
   "mimetype": "text/x-python",
   "name": "python",
   "nbconvert_exporter": "python",
   "pygments_lexer": "ipython3",
   "version": "3.6.5"
  }
 },
 "nbformat": 4,
 "nbformat_minor": 1
}
